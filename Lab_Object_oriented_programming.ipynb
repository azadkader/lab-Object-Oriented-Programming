{
 "cells": [
  {
   "cell_type": "code",
   "execution_count": 1,
   "id": "55424e14",
   "metadata": {},
   "outputs": [
    {
     "name": "stdout",
     "output_type": "stream",
     "text": [
      "TV is on: True\n",
      "Volume: 70.0\n",
      "Active Channel: 5\n",
      "Input Source: HDMI1\n",
      "TV Size: 50.0 inches\n"
     ]
    }
   ],
   "source": [
    "class Tv:\n",
    "    def __init__(self, size: float):\n",
    "        self.on = False\n",
    "        self.volume = 50.0\n",
    "        self.active_channel = 1\n",
    "        self.input = \"Anthena\"\n",
    "        self.size = size\n",
    "\n",
    "    def switch_on(self):\n",
    "        self.on = True\n",
    "\n",
    "    def switch_off(self):\n",
    "        self.on = False\n",
    "\n",
    "    def set_volume(self, volume: float):\n",
    "        if 0 <= volume <= 100:\n",
    "            self.volume = volume\n",
    "        else:\n",
    "            print(\"Volume must be in the range [0, 100].\")\n",
    "\n",
    "    def change_channel(self, channel: int):\n",
    "        if 1 <= channel <= 10:\n",
    "            self.active_channel = channel\n",
    "        else:\n",
    "            print(\"Channel must be in the range [1, 10].\")\n",
    "\n",
    "    def set_input(self, value: str):\n",
    "        valid_inputs = [\"Anthena\", \"HDMI1\", \"HDMI2\", \"HDMI3\"]\n",
    "        if value in valid_inputs:\n",
    "            self.input = value\n",
    "        else:\n",
    "            print(\"Invalid input source.\")\n",
    "\n",
    "\n",
    "if __name__ == \"__main__\":\n",
    "    tv = Tv(size=50.0)\n",
    "\n",
    "    tv.switch_on()\n",
    "    tv.set_volume(70.0)\n",
    "    tv.change_channel(5)\n",
    "    tv.set_input(\"HDMI1\")\n",
    "\n",
    "    print(\"TV is on:\", tv.on)\n",
    "    print(\"Volume:\", tv.volume)\n",
    "    print(\"Active Channel:\", tv.active_channel)\n",
    "    print(\"Input Source:\", tv.input)\n",
    "    print(\"TV Size:\", tv.size, \"inches\")\n"
   ]
  },
  {
   "cell_type": "code",
   "execution_count": null,
   "id": "07644fef",
   "metadata": {},
   "outputs": [],
   "source": []
  }
 ],
 "metadata": {
  "kernelspec": {
   "display_name": "Python 3 (ipykernel)",
   "language": "python",
   "name": "python3"
  },
  "language_info": {
   "codemirror_mode": {
    "name": "ipython",
    "version": 3
   },
   "file_extension": ".py",
   "mimetype": "text/x-python",
   "name": "python",
   "nbconvert_exporter": "python",
   "pygments_lexer": "ipython3",
   "version": "3.10.11"
  }
 },
 "nbformat": 4,
 "nbformat_minor": 5
}
